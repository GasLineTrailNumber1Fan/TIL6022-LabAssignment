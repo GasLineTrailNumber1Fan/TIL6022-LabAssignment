{
 "cells": [
  {
   "cell_type": "markdown",
   "id": "ba7a5dd8",
   "metadata": {},
   "source": [
    "Import relevant packages here."
   ]
  },
  {
   "cell_type": "code",
   "execution_count": 7,
   "id": "6a8838bb",
   "metadata": {},
   "outputs": [],
   "source": [
    "import matplotlib.pyplot as plt\n",
    "import pandas as pd\n",
    "import numpy as np\n"
   ]
  },
  {
   "cell_type": "markdown",
   "id": "1725519c",
   "metadata": {},
   "source": [
    "Load the data and verify it is loaded correctly.\n",
    "<ul>\n",
    "    <li>Print it (head, tail, or specific rows, choose a sensible number of rows).</li>\n",
    "    <li>Compare it to the source file.</li>\n",
    "<ul>"
   ]
  },
  {
   "cell_type": "code",
   "execution_count": 6,
   "id": "aa4d5e37",
   "metadata": {},
   "outputs": [
    {
     "data": {
      "text/html": [
       "<div>\n",
       "<style scoped>\n",
       "    .dataframe tbody tr th:only-of-type {\n",
       "        vertical-align: middle;\n",
       "    }\n",
       "\n",
       "    .dataframe tbody tr th {\n",
       "        vertical-align: top;\n",
       "    }\n",
       "\n",
       "    .dataframe thead th {\n",
       "        text-align: right;\n",
       "    }\n",
       "</style>\n",
       "<table border=\"1\" class=\"dataframe\">\n",
       "  <thead>\n",
       "    <tr style=\"text-align: right;\">\n",
       "      <th></th>\n",
       "      <th>dv</th>\n",
       "      <th>s</th>\n",
       "      <th>a</th>\n",
       "    </tr>\n",
       "  </thead>\n",
       "  <tbody>\n",
       "    <tr>\n",
       "      <th>0</th>\n",
       "      <td>-0.743240</td>\n",
       "      <td>53.5427</td>\n",
       "      <td>1.242570</td>\n",
       "    </tr>\n",
       "    <tr>\n",
       "      <th>1</th>\n",
       "      <td>-0.557230</td>\n",
       "      <td>53.6120</td>\n",
       "      <td>1.777920</td>\n",
       "    </tr>\n",
       "    <tr>\n",
       "      <th>2</th>\n",
       "      <td>-0.454769</td>\n",
       "      <td>53.6541</td>\n",
       "      <td>0.544107</td>\n",
       "    </tr>\n",
       "    <tr>\n",
       "      <th>3</th>\n",
       "      <td>-0.525396</td>\n",
       "      <td>53.7030</td>\n",
       "      <td>-0.294755</td>\n",
       "    </tr>\n",
       "    <tr>\n",
       "      <th>4</th>\n",
       "      <td>-0.601285</td>\n",
       "      <td>53.7592</td>\n",
       "      <td>-0.290961</td>\n",
       "    </tr>\n",
       "    <tr>\n",
       "      <th>5</th>\n",
       "      <td>-0.682448</td>\n",
       "      <td>53.8232</td>\n",
       "      <td>-0.283414</td>\n",
       "    </tr>\n",
       "    <tr>\n",
       "      <th>6</th>\n",
       "      <td>-0.768859</td>\n",
       "      <td>53.8957</td>\n",
       "      <td>-0.271604</td>\n",
       "    </tr>\n",
       "    <tr>\n",
       "      <th>7</th>\n",
       "      <td>-0.860452</td>\n",
       "      <td>53.9770</td>\n",
       "      <td>-0.133532</td>\n",
       "    </tr>\n",
       "    <tr>\n",
       "      <th>8</th>\n",
       "      <td>-0.832777</td>\n",
       "      <td>54.0678</td>\n",
       "      <td>0.243356</td>\n",
       "    </tr>\n",
       "    <tr>\n",
       "      <th>9</th>\n",
       "      <td>-0.576125</td>\n",
       "      <td>54.1436</td>\n",
       "      <td>0.406759</td>\n",
       "    </tr>\n",
       "  </tbody>\n",
       "</table>\n",
       "</div>"
      ],
      "text/plain": [
       "         dv        s         a\n",
       "0 -0.743240  53.5427  1.242570\n",
       "1 -0.557230  53.6120  1.777920\n",
       "2 -0.454769  53.6541  0.544107\n",
       "3 -0.525396  53.7030 -0.294755\n",
       "4 -0.601285  53.7592 -0.290961\n",
       "5 -0.682448  53.8232 -0.283414\n",
       "6 -0.768859  53.8957 -0.271604\n",
       "7 -0.860452  53.9770 -0.133532\n",
       "8 -0.832777  54.0678  0.243356\n",
       "9 -0.576125  54.1436  0.406759"
      ]
     },
     "execution_count": 6,
     "metadata": {},
     "output_type": "execute_result"
    }
   ],
   "source": [
    "file = 'C:/Users/alvor/OneDrive/Desktop/Masters Work/Winter 2024/TIL 6022/Week 3/cf_data.csv'\n",
    "data = pd.read_csv(file)\n",
    "data.head(10)"
   ]
  },
  {
   "cell_type": "markdown",
   "id": "0f6d5753",
   "metadata": {},
   "source": [
    "In the ensuing, you will use <code>numpy</code>.\n",
    "\n",
    "Let's create a grid for the values to plot. But first create <b>two arrays named <code>dv</code> and <code>s</code></b> using <code>numpy.linspace</code> that hold the grid values at the relevant indices in their respective dimension of the grid.\n",
    "\n",
    "Create a <b>grid named <code>a</code></b> with zeros using <code>numpy.zeros</code> in to which calculated acceleration values can be stored.<br>\n",
    "<br>\n",
    "Let the grid span:<br>\n",
    "<ul>\n",
    "    <li>Speed difference <code>dv</code> [m/s]\n",
    "        <ul>\n",
    "            <li>From -10 till 10</li>\n",
    "            <li>With 41 evenly spaced values</li>\n",
    "        </ul>\n",
    "    </li>\n",
    "    <li>Headway <code>s</code> [m]\n",
    "        <ul>\n",
    "            <li>From 0 till 200</li>\n",
    "            <li>With 21 evenly spaced values</li>\n",
    "        </ul>\n",
    "    </li>\n",
    "</ul>"
   ]
  },
  {
   "cell_type": "code",
   "execution_count": 22,
   "id": "2d52276f",
   "metadata": {},
   "outputs": [],
   "source": [
    "dv = np.linspace(-10, 10, num=41)\n",
    "s = np.linspace(0, 200, 21)\n",
    "a = np.zeros([21, 41])"
   ]
  },
  {
   "cell_type": "markdown",
   "id": "fedab6cf",
   "metadata": {},
   "source": [
    "Create from the imported data 3 separate <code>numpy</code> arrays for each column <code>dv</code>, <code>s</code> and <code>a</code>. (We do this for speed reasons later.)\n",
    "<ul>\n",
    "    <li>Make sure to name them differently from the arrays that belong to the grid as above.</li>\n",
    "    <li>You can access the data of each column in a <code>DataFrame</code> using <code>data.xxx</code> where <code>xxx</code> is the column name (not as a string).</li>\n",
    "    <li>Use the method <code>to_numpy()</code> to convert a column to a <code>numpy</code> array.</li>\n",
    "</ul>"
   ]
  },
  {
   "cell_type": "code",
   "execution_count": 24,
   "id": "1058fc26",
   "metadata": {},
   "outputs": [
    {
     "data": {
      "text/plain": [
       "(array([-0.74324 , -0.55723 , -0.454769, ...,  5.13764 ,  5.15348 ,\n",
       "         5.25868 ]),\n",
       " array([ 53.5427,  53.612 ,  53.6541, ..., 115.118 , 114.599 , 113.112 ]),\n",
       " array([ 1.24257 ,  1.77792 ,  0.544107, ...,  0.232283,  0.262078,\n",
       "        -0.61244 ]))"
      ]
     },
     "execution_count": 24,
     "metadata": {},
     "output_type": "execute_result"
    }
   ],
   "source": [
    "DV = data.dv.to_numpy()\n",
    "S = data.s.to_numpy()\n",
    "A = data.a.to_numpy()\n",
    "\n",
    "DV, S, A"
   ]
  },
  {
   "cell_type": "markdown",
   "id": "bbf1585a",
   "metadata": {},
   "source": [
    "Create an algorithm that calculates all the acceleration values and stores them in the grid. The algorithm is described visually in the last part of the lecture. At each grid point, it calculates a weighted mean of all measurements. The weights are given by an exponential function, based on the 'distance' between the grid point, and the measurement values of <code>dv</code> and <code>s</code>. To get you started, how many <code>for</code>-loops do you need?<br>\n",
    "<br>\n",
    "For this you will need <code>math</code>.<br>\n",
    "Use an <i>upsilon</i> of 1.5m/s and a <i>sigma</i> of 30m.<br>\n",
    "<br>\n",
    "<b>Warning:</b> This calculation may take some time. So:\n",
    "<ul>\n",
    "    <li>Print a line for each iteration of the outer-most <code>for</code>-loop that shows you the progress.</li>\n",
    "    <li>Test you code by running it only on the first 50 measurements of the data.</li>\n",
    "</ul>"
   ]
  },
  {
   "cell_type": "code",
   "execution_count": 30,
   "id": "676dd33f",
   "metadata": {},
   "outputs": [
    {
     "name": "stdout",
     "output_type": "stream",
     "text": [
      "Row number 0 is completed\n",
      "Row number 1 is completed\n",
      "Row number 2 is completed\n",
      "Row number 3 is completed\n",
      "Row number 4 is completed\n",
      "Row number 5 is completed\n",
      "Row number 6 is completed\n",
      "Row number 7 is completed\n",
      "Row number 8 is completed\n",
      "Row number 9 is completed\n",
      "Row number 10 is completed\n",
      "Row number 11 is completed\n",
      "Row number 12 is completed\n",
      "Row number 13 is completed\n",
      "Row number 14 is completed\n",
      "Row number 15 is completed\n",
      "Row number 16 is completed\n",
      "Row number 17 is completed\n",
      "Row number 18 is completed\n",
      "Row number 19 is completed\n",
      "Row number 20 is completed\n",
      "Row number 21 is completed\n",
      "Row number 22 is completed\n",
      "Row number 23 is completed\n",
      "Row number 24 is completed\n",
      "Row number 25 is completed\n",
      "Row number 26 is completed\n",
      "Row number 27 is completed\n",
      "Row number 28 is completed\n",
      "Row number 29 is completed\n",
      "Row number 30 is completed\n",
      "Row number 31 is completed\n",
      "Row number 32 is completed\n",
      "Row number 33 is completed\n",
      "Row number 34 is completed\n",
      "Row number 35 is completed\n",
      "Row number 36 is completed\n",
      "Row number 37 is completed\n",
      "Row number 38 is completed\n",
      "Row number 39 is completed\n",
      "Row number 40 is completed\n"
     ]
    }
   ],
   "source": [
    "import math\n",
    "upsilon = 1.5 # m/s\n",
    "sigma = 30 # meters\n",
    "rowCounter = 0\n",
    "\n",
    "for i_dv in range(len(dv)):\n",
    "\n",
    "    for i_s in range(len(s)):\n",
    "        sum_weighted_acc = 0\n",
    "        sum_weight = 0\n",
    "\n",
    "        for i_data in range(len(A)):\n",
    "            weight = math.exp(-abs(DV[i_data] - dv[i_dv]) / upsilon - abs(S[i_data] - s[i_s] / sigma))\n",
    "            sum_weighted_acc += (weight * A[i_data])\n",
    "            sum_weight += weight\n",
    "            \n",
    "        a[i_s, i_dv] = sum_weighted_acc / sum_weight\n",
    "\n",
    "    print(f'Row number {rowCounter} is completed')\n",
    "    rowCounter += 1"
   ]
  },
  {
   "cell_type": "markdown",
   "id": "52cbac3a",
   "metadata": {},
   "source": [
    "The following code will plot the data for you. Does it make sense when considering:\n",
    "<ul>\n",
    "    <li>Negative (slower than leader) and positive (faster than leader) speed differences?</li>\n",
    "    <li>Small and large headways?</li>\n",
    "</ul>"
   ]
  },
  {
   "cell_type": "code",
   "execution_count": 31,
   "id": "168949b8",
   "metadata": {},
   "outputs": [
    {
     "data": {
      "image/png": "[encoded data removed]",
      "text/plain": [
       "<Figure size 1000x700 with 2 Axes>"
      ]
     },
     "metadata": {},
     "output_type": "display_data"
    }
   ],
   "source": [
    "X, Y = np.meshgrid(dv, s)\n",
    "axs = plt.axes()\n",
    "p = axs.pcolor(X, Y, a, shading='nearest')\n",
    "axs.set_title('Acceleration [m/s/s]')\n",
    "axs.set_xlabel('Speed difference [m/s]')\n",
    "axs.set_ylabel('Headway [m]')\n",
    "axs.figure.colorbar(p);\n",
    "axs.figure.set_size_inches(10, 7)"
   ]
  }
 ],
 "metadata": {
  "kernelspec": {
   "display_name": "Python 3 (ipykernel)",
   "language": "python",
   "name": "python3"
  },
  "language_info": {
   "codemirror_mode": {
    "name": "ipython",
    "version": 3
   },
   "file_extension": ".py",
   "mimetype": "text/x-python",
   "name": "python",
   "nbconvert_exporter": "python",
   "pygments_lexer": "ipython3",
   "version": "3.12.5"
  }
 },
 "nbformat": 4,
 "nbformat_minor": 5
}
